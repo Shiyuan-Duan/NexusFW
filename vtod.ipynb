{
 "cells": [
  {
   "cell_type": "code",
   "execution_count": null,
   "id": "678d02fc",
   "metadata": {},
   "outputs": [],
   "source": [
    "def volts_to_code(v: float) -> int:\n",
    "\n",
    "    max_v = 5.0\n",
    "    if not (0.0 <= v <= max_v):\n",
    "        raise ValueError(\"Voltage must be between 0 V and 5 V\")\n",
    "\n",
    "    code = round(v / max_v * 0xFFFF)\n",
    "    return int(code)\n"
   ]
  },
  {
   "cell_type": "code",
   "execution_count": 4,
   "id": "6c1925c4",
   "metadata": {},
   "outputs": [
    {
     "name": "stdout",
     "output_type": "stream",
     "text": [
      "0x1eb8\n"
     ]
    }
   ],
   "source": [
    "print(hex(volts_to_code(0.6)))"
   ]
  },
  {
   "cell_type": "code",
   "execution_count": null,
   "id": "618ea3b0",
   "metadata": {},
   "outputs": [],
   "source": []
  }
 ],
 "metadata": {
  "kernelspec": {
   "display_name": "painstudy",
   "language": "python",
   "name": "python3"
  },
  "language_info": {
   "codemirror_mode": {
    "name": "ipython",
    "version": 3
   },
   "file_extension": ".py",
   "mimetype": "text/x-python",
   "name": "python",
   "nbconvert_exporter": "python",
   "pygments_lexer": "ipython3",
   "version": "3.12.0"
  }
 },
 "nbformat": 4,
 "nbformat_minor": 5
}
